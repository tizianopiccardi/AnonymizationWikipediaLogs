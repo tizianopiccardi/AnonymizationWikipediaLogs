{
 "cells": [
  {
   "cell_type": "code",
   "execution_count": 1,
   "id": "80ea8b15",
   "metadata": {},
   "outputs": [
    {
     "name": "stderr",
     "output_type": "stream",
     "text": [
      "PySpark executors will use /usr/lib/anaconda-wmf/bin/python3.\n"
     ]
    }
   ],
   "source": [
    "import wmfdata\n",
    "spark = wmfdata.spark.get_session('yarn-large')\n",
    "sc=spark.sparkContext\n",
    "\n",
    "import pyspark\n",
    "import pyspark.sql\n",
    "from pyspark.sql import *\n",
    "from pyspark.sql.functions import *\n",
    "from pyspark.sql.types import *\n",
    "from datetime import timedelta, date\n",
    "import matplotlib.pyplot as plt\n",
    "from pyspark.sql.types import StringType\n",
    "from pyspark.sql.functions import udf\n",
    "import pandas as pd\n",
    "\n",
    "\n",
    "DATA_FOLDER = \"how_we_read_wikipedia_march/en\""
   ]
  },
  {
   "cell_type": "code",
   "execution_count": 2,
   "id": "b73d5a72",
   "metadata": {},
   "outputs": [
    {
     "data": {
      "text/plain": [
       "DataFrame[access_method: string, country_code: string, session: array<struct<actual_destination:string,http_status:string,local_time:timestamp,page_id:bigint,page_title:string,prev_load:bigint,referer:string>>, timezone: string, user_identifier: string, previews: array<struct<http_status:string,local_time:timestamp,page_title:string,preview_title:string>>]"
      ]
     },
     "execution_count": 2,
     "metadata": {},
     "output_type": "execute_result"
    }
   ],
   "source": [
    "aggregated_sessions = spark.read.parquet(\"{}/aggregated_sessions_final.parquet\".format(DATA_FOLDER))\\\n",
    "                                .repartition(12000)\n",
    "aggregated_sessions"
   ]
  },
  {
   "cell_type": "code",
   "execution_count": 3,
   "id": "bbe7eb7b",
   "metadata": {},
   "outputs": [
    {
     "data": {
      "text/plain": [
       "1479882553"
      ]
     },
     "execution_count": 3,
     "metadata": {},
     "output_type": "execute_result"
    }
   ],
   "source": [
    "aggregated_sessions.count()"
   ]
  },
  {
   "cell_type": "code",
   "execution_count": 4,
   "id": "1df3578c",
   "metadata": {},
   "outputs": [
    {
     "data": {
      "text/plain": [
       "DataFrame[access_method: string, country_code: string, session1h: array<struct<actual_destination:string,http_status:string,local_time:timestamp,page_id:bigint,page_title:string,prev_load:bigint,referer:string>>, user_identifier: string, session_id: bigint]"
      ]
     },
     "execution_count": 4,
     "metadata": {},
     "output_type": "execute_result"
    }
   ],
   "source": [
    "def split_session_1h(row):\n",
    "    sessions = []\n",
    "    tmp = [row.session[0]]\n",
    "    loaded_articles = set([row.session[0].page_id])\n",
    "    for pl in row.session[1:]:\n",
    "        if pl.prev_load>3600 and '.wikipedia.org/wiki/' not in pl.referer:\n",
    "            sessions.append(tmp)\n",
    "            tmp = []\n",
    "            loaded_articles = set()\n",
    "        if pl.page_id not in loaded_articles:\n",
    "            tmp.append(pl)\n",
    "            loaded_articles.add(pl.page_id)\n",
    "    if len(tmp)>0:\n",
    "        sessions.append(tmp)\n",
    "    return [Row(user_identifier=row.user_identifier, access_method=row.access_method, \n",
    "               country_code=row.country_code, session1h=s) for s in sessions]\n",
    "\n",
    "sessions1h = spark.createDataFrame(aggregated_sessions.rdd.flatMap(split_session_1h)).repartition(12000)\n",
    "sessions1h = sessions1h.withColumn(\"session_id\", monotonically_increasing_id())\n",
    "sessions1h"
   ]
  },
  {
   "cell_type": "code",
   "execution_count": 5,
   "id": "51c06bdf",
   "metadata": {},
   "outputs": [],
   "source": [
    "sessions1h.write.mode(\"overwrite\").parquet(\"{}/reading_sessions1h.parquet\".format(DATA_FOLDER))"
   ]
  },
  {
   "cell_type": "code",
   "execution_count": 6,
   "id": "fa7b1592",
   "metadata": {},
   "outputs": [
    {
     "data": {
      "text/plain": [
       "2576027156"
      ]
     },
     "execution_count": 6,
     "metadata": {},
     "output_type": "execute_result"
    }
   ],
   "source": [
    "sessions1h.count()"
   ]
  },
  {
   "cell_type": "code",
   "execution_count": null,
   "id": "ea4542e5",
   "metadata": {},
   "outputs": [],
   "source": []
  }
 ],
 "metadata": {
  "kernelspec": {
   "display_name": "Python 3",
   "language": "python",
   "name": "python3"
  },
  "language_info": {
   "codemirror_mode": {
    "name": "ipython",
    "version": 3
   },
   "file_extension": ".py",
   "mimetype": "text/x-python",
   "name": "python",
   "nbconvert_exporter": "python",
   "pygments_lexer": "ipython3",
   "version": "3.7.6"
  }
 },
 "nbformat": 4,
 "nbformat_minor": 5
}
