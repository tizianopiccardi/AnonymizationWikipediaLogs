{
 "cells": [
  {
   "cell_type": "code",
   "execution_count": 1,
   "metadata": {},
   "outputs": [
    {
     "name": "stderr",
     "output_type": "stream",
     "text": [
      "PySpark executors will use /usr/lib/anaconda-wmf/bin/python3.\n"
     ]
    }
   ],
   "source": [
    "import wmfdata\n",
    "spark = wmfdata.spark.get_custom_session(\n",
    "    master='yarn',\n",
    "    spark_config={\n",
    "        'spark.executor.memory': '32g',\n",
    "        'spark.executor.cores': '4',\n",
    "        'spark.dynamicAllocation.maxExecutors': '32'\n",
    "    }\n",
    ")\n",
    "sc=spark.sparkContext\n",
    "\n",
    "import pyspark\n",
    "import pyspark.sql\n",
    "from pyspark.sql import *\n",
    "from pyspark.sql.functions import *\n",
    "from pyspark.sql.types import *\n",
    "from datetime import timedelta, date\n",
    "import matplotlib.pyplot as plt\n",
    "from pyspark.sql.types import StringType\n",
    "from pyspark.sql.functions import udf\n",
    "import pandas as pd\n",
    "\n",
    "%matplotlib inline\n",
    "\n",
    "\n",
    "DESTINATION_FOLDER = \"how_we_read_wikipedia_march/en\"\n",
    "MAX_PAGELOADS = 100*28"
   ]
  },
  {
   "cell_type": "code",
   "execution_count": 2,
   "metadata": {},
   "outputs": [
    {
     "data": {
      "text/html": [
       "\n",
       "            <div>\n",
       "                <p><b>SparkSession - hive</b></p>\n",
       "                \n",
       "        <div>\n",
       "            <p><b>SparkContext</b></p>\n",
       "\n",
       "            <p><a href=\"http://stat1006.eqiad.wmnet:4043\">Spark UI</a></p>\n",
       "\n",
       "            <dl>\n",
       "              <dt>Version</dt>\n",
       "                <dd><code>v2.4.4</code></dd>\n",
       "              <dt>Master</dt>\n",
       "                <dd><code>yarn</code></dd>\n",
       "              <dt>AppName</dt>\n",
       "                <dd><code>wmfdata-custom</code></dd>\n",
       "            </dl>\n",
       "        </div>\n",
       "        \n",
       "            </div>\n",
       "        "
      ],
      "text/plain": [
       "<pyspark.sql.session.SparkSession at 0x7f91ade6f910>"
      ]
     },
     "execution_count": 2,
     "metadata": {},
     "output_type": "execute_result"
    }
   ],
   "source": [
    "spark"
   ]
  },
  {
   "cell_type": "code",
   "execution_count": 4,
   "metadata": {},
   "outputs": [
    {
     "data": {
      "text/plain": [
       "DataFrame[country_code: string, user_identifier: string, http_status: string, referer: string, local_time: timestamp, timezone: string, access_method: string, page_title: string, page_id: bigint, namespace_id: int, actual_destination: string]"
      ]
     },
     "execution_count": 4,
     "metadata": {},
     "output_type": "execute_result"
    }
   ],
   "source": [
    "pageviews = spark.read.parquet(\"{}/pageloads/*\".format(DESTINATION_FOLDER))\\\n",
    "        .where(\"MONTH(local_time)=3 AND DAY(local_time)>=1 AND DAY(local_time)<=28\")\\\n",
    "        .where(\"namespace_id = 0\")\\\n",
    "        .where(\"actual_destination<>'Main_Page'\")\n",
    "pageviews"
   ]
  },
  {
   "cell_type": "code",
   "execution_count": 5,
   "metadata": {},
   "outputs": [
    {
     "data": {
      "text/plain": [
       "6791284901"
      ]
     },
     "execution_count": 5,
     "metadata": {},
     "output_type": "execute_result"
    }
   ],
   "source": [
    "pageviews.count()"
   ]
  },
  {
   "cell_type": "code",
   "execution_count": 6,
   "metadata": {},
   "outputs": [
    {
     "data": {
      "text/plain": [
       "DataFrame[user_identifier: string, http_status: string, local_time: timestamp, preview_title: string, page_title: string, long_preview: boolean]"
      ]
     },
     "execution_count": 6,
     "metadata": {},
     "output_type": "execute_result"
    }
   ],
   "source": [
    "previews = spark.read.parquet(\"{}/previews/*\".format(DESTINATION_FOLDER))\\\n",
    "                .where(\"MONTH(local_time)=3 AND DAY(local_time)>=1 AND DAY(local_time)<=28\")\\\n",
    "                .where(\"long_preview=TRUE\")\n",
    "previews"
   ]
  },
  {
   "cell_type": "markdown",
   "metadata": {},
   "source": [
    "### Remove user_identifier that are too frequent"
   ]
  },
  {
   "cell_type": "code",
   "execution_count": 7,
   "metadata": {},
   "outputs": [],
   "source": [
    "limit = pageviews.groupBy(\"user_identifier\").agg(count(\"*\").alias(\"pageloads\"))\\\n",
    "            .where(\"pageloads<{}\".format(MAX_PAGELOADS)).select(\"user_identifier\").cache()\n",
    "\n",
    "pageviews_limited = pageviews.join(limit, \"user_identifier\").repartition(12000)\n",
    "previews_limited = previews.join(limit, \"user_identifier\").repartition(12000)"
   ]
  },
  {
   "cell_type": "code",
   "execution_count": 8,
   "metadata": {},
   "outputs": [
    {
     "data": {
      "text/plain": [
       "DataFrame[user_identifier: string, country_code: string, http_status: string, referer: string, local_time: timestamp, timezone: string, access_method: string, page_title: string, page_id: bigint, namespace_id: int, actual_destination: string]"
      ]
     },
     "execution_count": 8,
     "metadata": {},
     "output_type": "execute_result"
    }
   ],
   "source": [
    "pageviews_limited"
   ]
  },
  {
   "cell_type": "code",
   "execution_count": 9,
   "metadata": {},
   "outputs": [
    {
     "data": {
      "text/plain": [
       "6528759496"
      ]
     },
     "execution_count": 9,
     "metadata": {},
     "output_type": "execute_result"
    }
   ],
   "source": [
    "pageviews_limited.count()"
   ]
  },
  {
   "cell_type": "code",
   "execution_count": 11,
   "metadata": {},
   "outputs": [
    {
     "data": {
      "text/plain": [
       "DataFrame[access_method: string, country_code: string, session: array<struct<actual_destination:string,http_status:string,local_time:timestamp,page_id:bigint,page_title:string,prev_load:bigint,referer:string>>, timezone: string, user_identifier: string]"
      ]
     },
     "execution_count": 11,
     "metadata": {},
     "output_type": "execute_result"
    }
   ],
   "source": [
    "def get_row(row):\n",
    "    user_identifier = row[0][0]\n",
    "    access_method = row[0][1]\n",
    "    country_code = row[0][2]\n",
    "    timezone = row[0][3]\n",
    "    session = sorted(row[1], key=lambda x: x[0])\n",
    "    session = [{\"local_time\": s[0], \"http_status\": s[1], \"referer\": s[2], \n",
    "                \"page_title\": s[3], \"actual_destination\": s[4], \"prev_load\": -1,\n",
    "                \"page_id\": s[5]} for s in session]\n",
    "    \n",
    "    clean_session = [Row(**session[0])]\n",
    "    for s in session[1:]:\n",
    "        s['prev_load'] = int((s[\"local_time\"]-clean_session[-1][\"local_time\"]).total_seconds())\n",
    "        clean_session.append(Row(**s))\n",
    "    return Row(user_identifier=user_identifier, access_method=access_method, \n",
    "               country_code=country_code, session=clean_session,\n",
    "              timezone=timezone)\n",
    "\n",
    "aggregated_sessions_rdd = pageviews_limited.rdd.map(\n",
    "                                lambda r: ((r.user_identifier, r.access_method, r.country_code, r.timezone), \n",
    "                                    [(r.local_time, r.http_status, r.referer, \n",
    "                                      r.page_title, r.actual_destination, r.page_id)]))\\\n",
    "                    .reduceByKey(lambda a,b: a+b).map(get_row)\n",
    "\n",
    "aggregated_pageloads = spark.createDataFrame(aggregated_sessions_rdd).repartition(18000)\n",
    "aggregated_pageloads"
   ]
  },
  {
   "cell_type": "code",
   "execution_count": 13,
   "metadata": {},
   "outputs": [
    {
     "data": {
      "text/plain": [
       "DataFrame[previews: array<struct<http_status:string,local_time:timestamp,page_title:string,preview_title:string>>, user_identifier: string]"
      ]
     },
     "execution_count": 13,
     "metadata": {},
     "output_type": "execute_result"
    }
   ],
   "source": [
    "previews_by_user_rdd = previews_limited.rdd.map(lambda r: (r.user_identifier, \n",
    "                            [Row(http_status=r.http_status, preview_title=r.preview_title, \n",
    "                                 page_title=r.page_title, local_time=r.local_time)]))\\\n",
    "            .reduceByKey(lambda a,b: a+b)\\\n",
    "            .map(lambda r: Row(user_identifier=r[0], previews=sorted(r[1], key=lambda p: p.local_time)))\n",
    "\n",
    "previews_by_user = spark.createDataFrame(previews_by_user_rdd).repartition(18000)\n",
    "previews_by_user"
   ]
  },
  {
   "cell_type": "markdown",
   "metadata": {},
   "source": [
    "### Merge pageviews and previews"
   ]
  },
  {
   "cell_type": "code",
   "execution_count": 14,
   "metadata": {},
   "outputs": [
    {
     "data": {
      "text/plain": [
       "DataFrame[access_method: string, country_code: string, session: array<struct<actual_destination:string,http_status:string,local_time:timestamp,page_id:bigint,page_title:string,prev_load:bigint,referer:string>>, timezone: string, user_identifier: string, previews: array<struct<http_status:string,local_time:timestamp,page_title:string,preview_title:string>>]"
      ]
     },
     "execution_count": 14,
     "metadata": {},
     "output_type": "execute_result"
    }
   ],
   "source": [
    "aggregated_pageloads.registerTempTable(\"aggregated_pageloads\")\n",
    "previews_by_user.registerTempTable(\"previews_by_user\")\n",
    "\n",
    "query = \"\"\"\n",
    "SELECT pl.*, p.previews\n",
    "FROM aggregated_pageloads pl\n",
    "LEFT JOIN previews_by_user p\n",
    "ON pl.user_identifier = p.user_identifier\n",
    "\"\"\"\n",
    "\n",
    "aggregated_sessions = spark.sql(query).repartition(12000)\n",
    "aggregated_sessions"
   ]
  },
  {
   "cell_type": "code",
   "execution_count": 15,
   "metadata": {},
   "outputs": [],
   "source": [
    "aggregated_sessions.write.mode(\"overwrite\").parquet(\"{}/aggregated_sessions_final.parquet\".format(DESTINATION_FOLDER))"
   ]
  },
  {
   "cell_type": "code",
   "execution_count": 16,
   "metadata": {},
   "outputs": [
    {
     "data": {
      "text/plain": [
       "DataFrame[access_method: string, country_code: string, session: array<struct<actual_destination:string,http_status:string,local_time:timestamp,page_id:bigint,page_title:string,prev_load:bigint,referer:string>>, timezone: string, user_identifier: string, previews: array<struct<http_status:string,local_time:timestamp,page_title:string,preview_title:string>>]"
      ]
     },
     "execution_count": 16,
     "metadata": {},
     "output_type": "execute_result"
    }
   ],
   "source": [
    "aggregated_sessions"
   ]
  },
  {
   "cell_type": "code",
   "execution_count": null,
   "metadata": {},
   "outputs": [],
   "source": []
  }
 ],
 "metadata": {
  "kernelspec": {
   "display_name": "Python 3",
   "language": "python",
   "name": "python3"
  },
  "language_info": {
   "codemirror_mode": {
    "name": "ipython",
    "version": 3
   },
   "file_extension": ".py",
   "mimetype": "text/x-python",
   "name": "python",
   "nbconvert_exporter": "python",
   "pygments_lexer": "ipython3",
   "version": "3.7.9"
  }
 },
 "nbformat": 4,
 "nbformat_minor": 4
}
